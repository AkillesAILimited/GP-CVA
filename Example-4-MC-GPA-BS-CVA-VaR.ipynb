{
 "cells": [
  {
   "cell_type": "code",
   "execution_count": 25,
   "metadata": {},
   "outputs": [
    {
     "name": "stdout",
     "output_type": "stream",
     "text": [
      "The autoreload extension is already loaded. To reload it, use:\n",
      "  %reload_ext autoreload\n"
     ]
    }
   ],
   "source": [
    "import numpy as np\n",
    "import scipy as sp\n",
    "import matplotlib.pyplot as plt\n",
    "\n",
    "from BlackScholes import *\n",
    "from GBMSim import *\n",
    "from random import Random\n",
    "from scipy import stats  \n",
    "from sklearn import gaussian_process\n",
    "from sklearn.gaussian_process.kernels import ConstantKernel, RBF\n",
    "\n",
    "%matplotlib inline\n",
    "%load_ext autoreload\n",
    "%autoreload 2"
   ]
  },
  {
   "cell_type": "code",
   "execution_count": 26,
   "metadata": {},
   "outputs": [],
   "source": [
    "def trainGPs(x_train, f, timegrid):\n",
    "\n",
    "    gps = []\n",
    "    i = 0\n",
    "    for time in timegrid:\n",
    "        \n",
    "        y_train = []\n",
    "        \n",
    "        for idx in range(len(x_train)):\n",
    "             y_train.append(f(x_train[idx], time))\n",
    "        y_train = np.array(y_train)\n",
    "    \n",
    "        \n",
    "        sk_kernel = RBF(length_scale=1.0, length_scale_bounds=(0.01, 100.0))  #100000.0\n",
    "        gp = gaussian_process.GaussianProcessRegressor(kernel=sk_kernel, n_restarts_optimizer=20)\n",
    "        gp.fit(x_train,y_train)\n",
    "        gps.append(gp)\n",
    "        i += 1\n",
    "    return gps   "
   ]
  },
  {
   "cell_type": "code",
   "execution_count": 27,
   "metadata": {},
   "outputs": [],
   "source": [
    "def predictGPs(x_test, f, gps, timegrid):\n",
    "    \n",
    "    preds = []\n",
    "    stds = []\n",
    "    y_tests = []\n",
    "    i = 0\n",
    "    for time in timegrid:\n",
    "        \n",
    "        y_test_= []\n",
    "        for idx in range(len(x_test)):\n",
    "            y_test_.append(f(x_test[idx], time))\n",
    "            \n",
    "        y_test = np.array(y_test_)\n",
    "        y_tests.append(y_test)\n",
    "        \n",
    "        # Find optimal model hyperparameters\n",
    "        # Set into eval mode\n",
    "        pred, std = gps[i].predict(x_test,return_std=True)\n",
    "        preds.append(pred)\n",
    "        stds.append(std)\n",
    "        i+=1\n",
    "    return y_tests, preds, stds "
   ]
  },
  {
   "cell_type": "code",
   "execution_count": 31,
   "metadata": {},
   "outputs": [],
   "source": [
    "# specify the portfolio\n",
    "KC = 110    # Call strike\n",
    "KP = 90     # Put strike\n",
    "lb = 0.01\n",
    "ub = 400\n",
    "r  = 0\n",
    "T  = 2\n",
    "sigma = 0.3\n",
    "nt = 11\n",
    "S0 = 100\n",
    "n_sim_dt = 100\n"
   ]
  },
  {
   "cell_type": "code",
   "execution_count": 11,
   "metadata": {},
   "outputs": [],
   "source": [
    "# specify the portfolio\n",
    "portfolio = {}\n",
    "portfolio['call']={}\n",
    "portfolio['put']={}\n",
    "\n",
    "portfolio['call']['price']= lambda x,y: bsformula(1, lb+(ub-lb)*x, KC, r, y, sigma, 0)[0]\n",
    "portfolio['put']['price']= lambda x,y: bsformula(-1, lb+(ub-lb)*x, KP, r, y, sigma, 0)[0]\n",
    "portfolio['call']['weight']=2.0\n",
    "portfolio['put']['weight']=-1.0"
   ]
  },
  {
   "cell_type": "code",
   "execution_count": 12,
   "metadata": {},
   "outputs": [],
   "source": [
    "# prepare training and test data\n",
    "training_number= 100\n",
    "testing_number = 50\n",
    "x_train = np.array(np.linspace(0.0,1.0, training_number), dtype='float32').reshape(training_number, 1)\n",
    "x_test = np.array(np.linspace(0.0,1.0, testing_number), dtype='float32').reshape(testing_number, 1)"
   ]
  },
  {
   "cell_type": "code",
   "execution_count": 32,
   "metadata": {},
   "outputs": [],
   "source": [
    "sim_params = {}\n",
    "model_params = {}\n",
    "def_model = {}\n",
    "  \n",
    "model_params['r'] = r        # risk-free rate\n",
    "model_params['sigma'] = sigma  # implied volatility\n",
    "model_params['T'] = T        # Time to maturity \n",
    "model_params['t0'] = 0\n",
    "model_params['S0'] = S0     # Underlying spot\n",
    "     \n",
    "# parameters to the default intensity model    \n",
    "def_model['gamma_0'] = 0.01\n",
    "def_model['gamma_1'] = 1.2\n",
    "def_model['calibrate'] = False    \n",
    "def_model['recovery'] = 0.4\n",
    "\n",
    "sim_params['n_sim_dt'] = n_sim_dt # number of Euler stpes\n",
    "sim_params['M']  = 1000      # number of paths\n",
    "sim_params['nt'] = nt        # number of exposure dates\n",
    "\n",
    "timegrid = np.array(np.linspace(0.0,T,nt), dtype='float32').reshape(nt, 1)\n",
    "\n",
    "sim_params['timegrid']= timegrid # time grid of exposure dates"
   ]
  },
  {
   "cell_type": "code",
   "execution_count": 16,
   "metadata": {},
   "outputs": [
    {
     "name": "stderr",
     "output_type": "stream",
     "text": [
      "/Users/matthewdixon/Downloads/BM/Bayesian-modeling/BlackScholes.py:16: RuntimeWarning: divide by zero encountered in true_divide\n",
      "  d1 = (np.log(s/k)+(rf-div+0.5*v*v)*t)/(v*np.sqrt(t))\n",
      "/Users/matthewdixon/anaconda3/lib/python3.6/site-packages/sklearn/gaussian_process/gpr.py:457: UserWarning: fmin_l_bfgs_b terminated abnormally with the  state: {'grad': array([-1.2358298]), 'task': b'ABNORMAL_TERMINATION_IN_LNSRCH', 'funcalls': 111, 'nit': 11, 'warnflag': 2}\n",
      "  \" state: %s\" % convergence_dict)\n",
      "/Users/matthewdixon/anaconda3/lib/python3.6/site-packages/sklearn/gaussian_process/gpr.py:457: UserWarning: fmin_l_bfgs_b terminated abnormally with the  state: {'grad': array([-6.82093109]), 'task': b'ABNORMAL_TERMINATION_IN_LNSRCH', 'funcalls': 105, 'nit': 13, 'warnflag': 2}\n",
      "  \" state: %s\" % convergence_dict)\n",
      "/Users/matthewdixon/anaconda3/lib/python3.6/site-packages/sklearn/gaussian_process/gpr.py:457: UserWarning: fmin_l_bfgs_b terminated abnormally with the  state: {'grad': array([-3.25720529]), 'task': b'ABNORMAL_TERMINATION_IN_LNSRCH', 'funcalls': 104, 'nit': 10, 'warnflag': 2}\n",
      "  \" state: %s\" % convergence_dict)\n",
      "/Users/matthewdixon/anaconda3/lib/python3.6/site-packages/sklearn/gaussian_process/gpr.py:457: UserWarning: fmin_l_bfgs_b terminated abnormally with the  state: {'grad': array([-16.93687736]), 'task': b'ABNORMAL_TERMINATION_IN_LNSRCH', 'funcalls': 86, 'nit': 9, 'warnflag': 2}\n",
      "  \" state: %s\" % convergence_dict)\n",
      "/Users/matthewdixon/anaconda3/lib/python3.6/site-packages/sklearn/gaussian_process/gpr.py:457: UserWarning: fmin_l_bfgs_b terminated abnormally with the  state: {'grad': array([-16.36024266]), 'task': b'ABNORMAL_TERMINATION_IN_LNSRCH', 'funcalls': 65, 'nit': 8, 'warnflag': 2}\n",
      "  \" state: %s\" % convergence_dict)\n",
      "/Users/matthewdixon/anaconda3/lib/python3.6/site-packages/sklearn/gaussian_process/gpr.py:457: UserWarning: fmin_l_bfgs_b terminated abnormally with the  state: {'grad': array([-4757.52432251]), 'task': b'ABNORMAL_TERMINATION_IN_LNSRCH', 'funcalls': 64, 'nit': 8, 'warnflag': 2}\n",
      "  \" state: %s\" % convergence_dict)\n",
      "/Users/matthewdixon/anaconda3/lib/python3.6/site-packages/sklearn/gaussian_process/gpr.py:457: UserWarning: fmin_l_bfgs_b terminated abnormally with the  state: {'grad': array([-195.4402771]), 'task': b'ABNORMAL_TERMINATION_IN_LNSRCH', 'funcalls': 100, 'nit': 9, 'warnflag': 2}\n",
      "  \" state: %s\" % convergence_dict)\n",
      "/Users/matthewdixon/anaconda3/lib/python3.6/site-packages/sklearn/gaussian_process/gpr.py:457: UserWarning: fmin_l_bfgs_b terminated abnormally with the  state: {'grad': array([-2967.59768677]), 'task': b'ABNORMAL_TERMINATION_IN_LNSRCH', 'funcalls': 57, 'nit': 8, 'warnflag': 2}\n",
      "  \" state: %s\" % convergence_dict)\n",
      "/Users/matthewdixon/anaconda3/lib/python3.6/site-packages/sklearn/gaussian_process/gpr.py:457: UserWarning: fmin_l_bfgs_b terminated abnormally with the  state: {'grad': array([-314.15530396]), 'task': b'ABNORMAL_TERMINATION_IN_LNSRCH', 'funcalls': 72, 'nit': 10, 'warnflag': 2}\n",
      "  \" state: %s\" % convergence_dict)\n",
      "/Users/matthewdixon/anaconda3/lib/python3.6/site-packages/sklearn/gaussian_process/gpr.py:457: UserWarning: fmin_l_bfgs_b terminated abnormally with the  state: {'grad': array([-630.09338379]), 'task': b'ABNORMAL_TERMINATION_IN_LNSRCH', 'funcalls': 71, 'nit': 5, 'warnflag': 2}\n",
      "  \" state: %s\" % convergence_dict)\n",
      "/Users/matthewdixon/anaconda3/lib/python3.6/site-packages/sklearn/gaussian_process/gpr.py:457: UserWarning: fmin_l_bfgs_b terminated abnormally with the  state: {'grad': array([376.46624756]), 'task': b'ABNORMAL_TERMINATION_IN_LNSRCH', 'funcalls': 60, 'nit': 8, 'warnflag': 2}\n",
      "  \" state: %s\" % convergence_dict)\n",
      "/Users/matthewdixon/anaconda3/lib/python3.6/site-packages/sklearn/gaussian_process/gpr.py:457: UserWarning: fmin_l_bfgs_b terminated abnormally with the  state: {'grad': array([940.90423584]), 'task': b'ABNORMAL_TERMINATION_IN_LNSRCH', 'funcalls': 49, 'nit': 4, 'warnflag': 2}\n",
      "  \" state: %s\" % convergence_dict)\n",
      "/Users/matthewdixon/anaconda3/lib/python3.6/site-packages/sklearn/gaussian_process/gpr.py:457: UserWarning: fmin_l_bfgs_b terminated abnormally with the  state: {'grad': array([-8371.24395752]), 'task': b'ABNORMAL_TERMINATION_IN_LNSRCH', 'funcalls': 65, 'nit': 6, 'warnflag': 2}\n",
      "  \" state: %s\" % convergence_dict)\n",
      "/Users/matthewdixon/anaconda3/lib/python3.6/site-packages/sklearn/gaussian_process/gpr.py:457: UserWarning: fmin_l_bfgs_b terminated abnormally with the  state: {'grad': array([-4653.60620117]), 'task': b'ABNORMAL_TERMINATION_IN_LNSRCH', 'funcalls': 57, 'nit': 6, 'warnflag': 2}\n",
      "  \" state: %s\" % convergence_dict)\n",
      "/Users/matthewdixon/anaconda3/lib/python3.6/site-packages/sklearn/gaussian_process/gpr.py:457: UserWarning: fmin_l_bfgs_b terminated abnormally with the  state: {'grad': array([185.66864014]), 'task': b'ABNORMAL_TERMINATION_IN_LNSRCH', 'funcalls': 79, 'nit': 9, 'warnflag': 2}\n",
      "  \" state: %s\" % convergence_dict)\n",
      "/Users/matthewdixon/anaconda3/lib/python3.6/site-packages/sklearn/gaussian_process/gpr.py:457: UserWarning: fmin_l_bfgs_b terminated abnormally with the  state: {'grad': array([-3137.10351562]), 'task': b'ABNORMAL_TERMINATION_IN_LNSRCH', 'funcalls': 69, 'nit': 8, 'warnflag': 2}\n",
      "  \" state: %s\" % convergence_dict)\n",
      "/Users/matthewdixon/anaconda3/lib/python3.6/site-packages/sklearn/gaussian_process/gpr.py:457: UserWarning: fmin_l_bfgs_b terminated abnormally with the  state: {'grad': array([-899.89282227]), 'task': b'ABNORMAL_TERMINATION_IN_LNSRCH', 'funcalls': 63, 'nit': 6, 'warnflag': 2}\n",
      "  \" state: %s\" % convergence_dict)\n",
      "/Users/matthewdixon/anaconda3/lib/python3.6/site-packages/sklearn/gaussian_process/gpr.py:457: UserWarning: fmin_l_bfgs_b terminated abnormally with the  state: {'grad': array([78.26306152]), 'task': b'ABNORMAL_TERMINATION_IN_LNSRCH', 'funcalls': 54, 'nit': 5, 'warnflag': 2}\n",
      "  \" state: %s\" % convergence_dict)\n",
      "/Users/matthewdixon/anaconda3/lib/python3.6/site-packages/sklearn/gaussian_process/gpr.py:457: UserWarning: fmin_l_bfgs_b terminated abnormally with the  state: {'grad': array([-357.70367432]), 'task': b'ABNORMAL_TERMINATION_IN_LNSRCH', 'funcalls': 56, 'nit': 6, 'warnflag': 2}\n",
      "  \" state: %s\" % convergence_dict)\n",
      "/Users/matthewdixon/anaconda3/lib/python3.6/site-packages/sklearn/gaussian_process/gpr.py:457: UserWarning: fmin_l_bfgs_b terminated abnormally with the  state: {'grad': array([-2389.5848999]), 'task': b'ABNORMAL_TERMINATION_IN_LNSRCH', 'funcalls': 56, 'nit': 6, 'warnflag': 2}\n",
      "  \" state: %s\" % convergence_dict)\n",
      "/Users/matthewdixon/anaconda3/lib/python3.6/site-packages/sklearn/gaussian_process/gpr.py:335: UserWarning: Predicted variances smaller than 0. Setting those variances to 0.\n",
      "  warnings.warn(\"Predicted variances smaller than 0. \"\n",
      "/Users/matthewdixon/anaconda3/lib/python3.6/site-packages/sklearn/gaussian_process/gpr.py:457: UserWarning: fmin_l_bfgs_b terminated abnormally with the  state: {'grad': array([-0.15358587]), 'task': b'ABNORMAL_TERMINATION_IN_LNSRCH', 'funcalls': 75, 'nit': 10, 'warnflag': 2}\n",
      "  \" state: %s\" % convergence_dict)\n",
      "/Users/matthewdixon/anaconda3/lib/python3.6/site-packages/sklearn/gaussian_process/gpr.py:457: UserWarning: fmin_l_bfgs_b terminated abnormally with the  state: {'grad': array([-0.31620566]), 'task': b'ABNORMAL_TERMINATION_IN_LNSRCH', 'funcalls': 63, 'nit': 9, 'warnflag': 2}\n",
      "  \" state: %s\" % convergence_dict)\n",
      "/Users/matthewdixon/anaconda3/lib/python3.6/site-packages/sklearn/gaussian_process/gpr.py:457: UserWarning: fmin_l_bfgs_b terminated abnormally with the  state: {'grad': array([121.7577308]), 'task': b'ABNORMAL_TERMINATION_IN_LNSRCH', 'funcalls': 65, 'nit': 9, 'warnflag': 2}\n",
      "  \" state: %s\" % convergence_dict)\n",
      "/Users/matthewdixon/anaconda3/lib/python3.6/site-packages/sklearn/gaussian_process/gpr.py:457: UserWarning: fmin_l_bfgs_b terminated abnormally with the  state: {'grad': array([-8.8518458]), 'task': b'ABNORMAL_TERMINATION_IN_LNSRCH', 'funcalls': 55, 'nit': 8, 'warnflag': 2}\n",
      "  \" state: %s\" % convergence_dict)\n",
      "/Users/matthewdixon/anaconda3/lib/python3.6/site-packages/sklearn/gaussian_process/gpr.py:457: UserWarning: fmin_l_bfgs_b terminated abnormally with the  state: {'grad': array([-8.04178351]), 'task': b'ABNORMAL_TERMINATION_IN_LNSRCH', 'funcalls': 47, 'nit': 4, 'warnflag': 2}\n",
      "  \" state: %s\" % convergence_dict)\n",
      "/Users/matthewdixon/anaconda3/lib/python3.6/site-packages/sklearn/gaussian_process/gpr.py:457: UserWarning: fmin_l_bfgs_b terminated abnormally with the  state: {'grad': array([-9.09774397]), 'task': b'ABNORMAL_TERMINATION_IN_LNSRCH', 'funcalls': 63, 'nit': 8, 'warnflag': 2}\n",
      "  \" state: %s\" % convergence_dict)\n"
     ]
    },
    {
     "name": "stderr",
     "output_type": "stream",
     "text": [
      "/Users/matthewdixon/anaconda3/lib/python3.6/site-packages/sklearn/gaussian_process/gpr.py:457: UserWarning: fmin_l_bfgs_b terminated abnormally with the  state: {'grad': array([2.21232551]), 'task': b'ABNORMAL_TERMINATION_IN_LNSRCH', 'funcalls': 62, 'nit': 10, 'warnflag': 2}\n",
      "  \" state: %s\" % convergence_dict)\n",
      "/Users/matthewdixon/anaconda3/lib/python3.6/site-packages/sklearn/gaussian_process/gpr.py:457: UserWarning: fmin_l_bfgs_b terminated abnormally with the  state: {'grad': array([21.84470266]), 'task': b'ABNORMAL_TERMINATION_IN_LNSRCH', 'funcalls': 46, 'nit': 4, 'warnflag': 2}\n",
      "  \" state: %s\" % convergence_dict)\n",
      "/Users/matthewdixon/anaconda3/lib/python3.6/site-packages/sklearn/gaussian_process/gpr.py:457: UserWarning: fmin_l_bfgs_b terminated abnormally with the  state: {'grad': array([4.25504617]), 'task': b'ABNORMAL_TERMINATION_IN_LNSRCH', 'funcalls': 64, 'nit': 11, 'warnflag': 2}\n",
      "  \" state: %s\" % convergence_dict)\n",
      "/Users/matthewdixon/anaconda3/lib/python3.6/site-packages/sklearn/gaussian_process/gpr.py:457: UserWarning: fmin_l_bfgs_b terminated abnormally with the  state: {'grad': array([-4.4063625]), 'task': b'ABNORMAL_TERMINATION_IN_LNSRCH', 'funcalls': 65, 'nit': 11, 'warnflag': 2}\n",
      "  \" state: %s\" % convergence_dict)\n",
      "/Users/matthewdixon/anaconda3/lib/python3.6/site-packages/sklearn/gaussian_process/gpr.py:457: UserWarning: fmin_l_bfgs_b terminated abnormally with the  state: {'grad': array([22.01982798]), 'task': b'ABNORMAL_TERMINATION_IN_LNSRCH', 'funcalls': 47, 'nit': 5, 'warnflag': 2}\n",
      "  \" state: %s\" % convergence_dict)\n",
      "/Users/matthewdixon/anaconda3/lib/python3.6/site-packages/sklearn/gaussian_process/gpr.py:457: UserWarning: fmin_l_bfgs_b terminated abnormally with the  state: {'grad': array([-1.08856481]), 'task': b'ABNORMAL_TERMINATION_IN_LNSRCH', 'funcalls': 75, 'nit': 9, 'warnflag': 2}\n",
      "  \" state: %s\" % convergence_dict)\n",
      "/Users/matthewdixon/anaconda3/lib/python3.6/site-packages/sklearn/gaussian_process/gpr.py:457: UserWarning: fmin_l_bfgs_b terminated abnormally with the  state: {'grad': array([5.15185722]), 'task': b'ABNORMAL_TERMINATION_IN_LNSRCH', 'funcalls': 47, 'nit': 3, 'warnflag': 2}\n",
      "  \" state: %s\" % convergence_dict)\n",
      "/Users/matthewdixon/anaconda3/lib/python3.6/site-packages/sklearn/gaussian_process/gpr.py:457: UserWarning: fmin_l_bfgs_b terminated abnormally with the  state: {'grad': array([-4.45489278]), 'task': b'ABNORMAL_TERMINATION_IN_LNSRCH', 'funcalls': 59, 'nit': 8, 'warnflag': 2}\n",
      "  \" state: %s\" % convergence_dict)\n",
      "/Users/matthewdixon/anaconda3/lib/python3.6/site-packages/sklearn/gaussian_process/gpr.py:457: UserWarning: fmin_l_bfgs_b terminated abnormally with the  state: {'grad': array([-4.63292111]), 'task': b'ABNORMAL_TERMINATION_IN_LNSRCH', 'funcalls': 59, 'nit': 6, 'warnflag': 2}\n",
      "  \" state: %s\" % convergence_dict)\n",
      "/Users/matthewdixon/anaconda3/lib/python3.6/site-packages/sklearn/gaussian_process/gpr.py:457: UserWarning: fmin_l_bfgs_b terminated abnormally with the  state: {'grad': array([-5.90532979]), 'task': b'ABNORMAL_TERMINATION_IN_LNSRCH', 'funcalls': 49, 'nit': 7, 'warnflag': 2}\n",
      "  \" state: %s\" % convergence_dict)\n",
      "/Users/matthewdixon/anaconda3/lib/python3.6/site-packages/sklearn/gaussian_process/gpr.py:457: UserWarning: fmin_l_bfgs_b terminated abnormally with the  state: {'grad': array([1.84040341]), 'task': b'ABNORMAL_TERMINATION_IN_LNSRCH', 'funcalls': 61, 'nit': 10, 'warnflag': 2}\n",
      "  \" state: %s\" % convergence_dict)\n",
      "/Users/matthewdixon/anaconda3/lib/python3.6/site-packages/sklearn/gaussian_process/gpr.py:457: UserWarning: fmin_l_bfgs_b terminated abnormally with the  state: {'grad': array([-6.7043909]), 'task': b'ABNORMAL_TERMINATION_IN_LNSRCH', 'funcalls': 67, 'nit': 9, 'warnflag': 2}\n",
      "  \" state: %s\" % convergence_dict)\n"
     ]
    }
   ],
   "source": [
    "# train and predict over portfolio\n",
    "for key in portfolio.keys():\n",
    "    portfolio[key]['GPs'] = trainGPs(x_train, portfolio[key]['price'], timegrid)\n",
    "    portfolio[key]['y_tests'], portfolio[key]['preds'], portfolio[key]['sigmas'] = predictGPs(x_test, portfolio[key]['price'], portfolio[key]['GPs'], timegrid)"
   ]
  },
  {
   "cell_type": "code",
   "execution_count": 28,
   "metadata": {},
   "outputs": [],
   "source": [
    "def CVA_simulation(sim_params, model_params, def_model):\n",
    "    \n",
    "    n_sim_dt = sim_params['n_sim_dt'] # number of Euler stpes\n",
    "    M        = sim_params['M']        # number of paths\n",
    "    nt       = sim_params['nt']       # number of exposure dates\n",
    "    timegrid = sim_params['timegrid'] # time grid of exposure dates\n",
    "    \n",
    "    r        = model_params['r']\n",
    "    sigma    = model_params['sigma']\n",
    "    T        = model_params['T'] \n",
    "    t0       = model_params['t0'] \n",
    "    S0       = model_params['S0'] \n",
    "    \n",
    "    gamma_0  = def_model['gamma_0']\n",
    "    gamma_1  = def_model['gamma_1']\n",
    "    \n",
    "    \n",
    "    stride = n_sim_dt/(nt-1)\n",
    "    idx = np.arange(0,n_sim_dt+1,stride, dtype=int)\n",
    "    \n",
    "    pi = {}\n",
    "    pi['tilde'] = np.array([0.0]*(nt-1)*M, dtype='float32').reshape((nt-1), M)     # GP portfolio value\n",
    "    pi['exact'] = np.array([0.0]*(nt-1)*M, dtype='float32').reshape((nt-1), M)     # BS portfolio value\n",
    "    pi['tilde_var'] = np.array([0.0]*(nt-1)*M, dtype='float32').reshape((nt-1), M) # GP portfolio variance\n",
    "    gamma = np.array([0.0]*(nt-1)*M, dtype='float32').reshape((nt-1), M)           # hazard rates\n",
    "    dPD = np.array([0.0]*(nt-1)*M, dtype='float32').reshape((nt-1), M)             # default probabilities\n",
    "    \n",
    "    #simulate underlying GBM dynamics using Euler\n",
    "    S = gbm(S0, r, sigma, T-t0, n_sim_dt, M)\n",
    "    \n",
    "    if (def_model['calibrate']):\n",
    "        x  = np.exp(S0/S)**gamma_1\n",
    "        # default probability (assumed to be estimated from credit spread)\n",
    "        dt = timegrid[1]-timegrid[0] \n",
    "        f  = lambda y: np.abs(np.mean(np.prod(x**(-y*dt), axis=0)) - def_model['p']) \n",
    "        res = sp.optimize.basinhopping(f, 0.1, niter=10)\n",
    "        i = 1   \n",
    "        while (abs(res.fun) >1e-3):   \n",
    "          res = sp.optimize.basinhopping(f, 0.1, niter=100*i)\n",
    "          i *= 2\n",
    "        gamma_0= res.x[0]\n",
    "        print(\"calibration:\", gamma_0, gamma_1, f(gamma_0), res.fun)  \n",
    "    \n",
    "    \n",
    "    for m in range(M):  \n",
    "      i = 1 \n",
    "      exp_factor=1\n",
    "        \n",
    "      for time in timegrid[1:]:\n",
    "        dt = timegrid[i]-timegrid[i-1] \n",
    "        \n",
    "        S_= S[idx[i],m] # simulated S\n",
    "        # avoid simulated S breaching boundaries of domain\n",
    "        if (S_<lb):\n",
    "            mins=S_\n",
    "            S_=lb\n",
    "        if (S_>ub):\n",
    "            S_=ub\n",
    "            maxs=S_\n",
    "    \n",
    "        pred_= 0\n",
    "        v_ = 0\n",
    "        var_ =0 \n",
    "    \n",
    "        for key in portfolio.keys():\n",
    "           pred, std = portfolio[key]['GPs'][i].predict(np.array([(S_-lb)/(ub-lb)]).reshape(1,-1),return_std=True) \n",
    "           pred_ += portfolio[key]['weight']*pred\n",
    "           var_ += (portfolio[key]['weight']*std)**2 \n",
    "       \n",
    "           if key=='call':\n",
    "              v_ += portfolio[key]['weight']*bsformula(1, S_, KC, r, time, sigma, 0)[0]\n",
    "           else:\n",
    "              v_ += portfolio[key]['weight']*bsformula(-1, S_, KP, r, time, sigma, 0)[0]\n",
    "        pi['tilde'][i-1,m] = np.maximum(pred_,0)\n",
    "        pi['exact'][i-1,m] = np.maximum(v_,0)\n",
    "        pi['tilde_var'][i-1,m] =var_ \n",
    "          \n",
    "        # default intensity model\n",
    "        gamma[i-1,m] = gamma_0*(S0/S_)**gamma_1    \n",
    "        \n",
    "        # compute default probabilities  \n",
    "        exp_factor*=np.exp(-dt*gamma[i-1,m])    \n",
    "        dPD[i-1,m]= gamma[i-1,m]*exp_factor\n",
    "        \n",
    "        i += 1\n",
    "    # compute CVA\n",
    "    i = 0\n",
    "    CVA ={}\n",
    "    CVA['tilde'] = 0\n",
    "    CVA['exact'] = 0\n",
    "    CVA['tilde_up'] = 0\n",
    "    CVA['tilde_down'] = 0\n",
    "   \n",
    "    for time in timegrid[1:]:\n",
    "        dt = timegrid[i+1]-timegrid[i]\n",
    "        mu_tilde = np.mean(dPD[i,:]*pi['tilde'][i,:])*np.exp(-r*(time-t0))*dt\n",
    "        CVA['tilde'] += mu_tilde\n",
    "        std_err_MC = np.std(dPD[i,:]*pi['tilde'][i,:])*np.exp(-r*(time-t0))*dt/np.sqrt(M)\n",
    "        CVA['tilde_up'] += mu_tilde + 2.0*std_err_MC\n",
    "        CVA['tilde_down'] += mu_tilde - 2.0*std_err_MC\n",
    "        CVA['exact'] += np.mean(dPD[i,:]*pi['exact'][i,:])*np.exp(-r*(time-t0))*dt\n",
    "        i+=1\n",
    "    CVA['tilde'] *= (1-def_model['recovery'])\n",
    "    CVA['tilde_up'] *= (1-def_model['recovery'])\n",
    "    CVA['tilde_down'] *= (1-def_model['recovery'])\n",
    "    CVA['exact'] *= (1-def_model['recovery'])\n",
    "        \n",
    "    return(CVA)"
   ]
  },
  {
   "cell_type": "markdown",
   "metadata": {},
   "source": [
    "## One year CVA with UQ"
   ]
  },
  {
   "cell_type": "code",
   "execution_count": 33,
   "metadata": {},
   "outputs": [
    {
     "name": "stderr",
     "output_type": "stream",
     "text": [
      "/Users/matthewdixon/anaconda3/lib/python3.6/site-packages/sklearn/gaussian_process/gpr.py:335: UserWarning: Predicted variances smaller than 0. Setting those variances to 0.\n",
      "  warnings.warn(\"Predicted variances smaller than 0. \"\n"
     ]
    }
   ],
   "source": [
    "J= 1   # number of outer simulations (from prior). Set J=1 for one year CVA without UQ\n",
    "M = 10 # number of middle simulations. Set M= 0 for CVA_0 with UQ \n",
    "CVA_1 = []\n",
    "CVA_0 = []\n",
    "gamma_1= np.array([0.0]*J, dtype='float32')\n",
    "\n",
    "# Sample from prior distribution using \n",
    "# non-centered chi-squared random variates\n",
    "gamma_1 = (1.2 + 1.0*np.random.randn(J))**2 \n",
    "\n",
    "for j in range(J): # outer loop\n",
    "    \n",
    "    def_model['gamma_0'] = 0.02\n",
    "    def_model['gamma_1'] = gamma_1[j] \n",
    "    model_params['t0'] = 0.0\n",
    "    sim_params['timegrid'] = timegrid\n",
    "    CVA_0.append(CVA_simulation(sim_params, model_params, def_model))\n",
    "    \n",
    "    S = gbm(S0, r, sigma, 1.0, n_sim_dt, M)\n",
    "    model_params['t0'] = 1.0\n",
    "    sim_params['timegrid'] = timegrid[5:]\n",
    "    for m in range(M): # middle loop\n",
    "        model_params['S0'] = S[-1, m]\n",
    "        CVA_1.append(CVA_simulation(sim_params, model_params, def_model))"
   ]
  },
  {
   "cell_type": "code",
   "execution_count": 34,
   "metadata": {},
   "outputs": [
    {
     "data": {
      "text/plain": [
       "[{'tilde': array([0.01504222], dtype=float32),\n",
       "  'exact': array([0.02620349], dtype=float32),\n",
       "  'tilde_up': array([0.01738534], dtype=float32),\n",
       "  'tilde_down': array([0.01269909], dtype=float32)},\n",
       " {'tilde': array([0.5998269], dtype=float32),\n",
       "  'exact': array([0.6995865], dtype=float32),\n",
       "  'tilde_up': array([0.6138042], dtype=float32),\n",
       "  'tilde_down': array([0.58584946], dtype=float32)},\n",
       " {'tilde': array([0.00048084], dtype=float32),\n",
       "  'exact': array([0.00088726], dtype=float32),\n",
       "  'tilde_up': array([0.000731], dtype=float32),\n",
       "  'tilde_down': array([0.00023068], dtype=float32)},\n",
       " {'tilde': array([0.05529058], dtype=float32),\n",
       "  'exact': array([0.09132233], dtype=float32),\n",
       "  'tilde_up': array([0.06033953], dtype=float32),\n",
       "  'tilde_down': array([0.05024163], dtype=float32)},\n",
       " {'tilde': array([0.00011632], dtype=float32),\n",
       "  'exact': array([0.00027999], dtype=float32),\n",
       "  'tilde_up': array([0.00020343], dtype=float32),\n",
       "  'tilde_down': array([2.920407e-05], dtype=float32)},\n",
       " {'tilde': array([1.6255325], dtype=float32),\n",
       "  'exact': array([1.683885], dtype=float32),\n",
       "  'tilde_up': array([1.6375797], dtype=float32),\n",
       "  'tilde_down': array([1.6134852], dtype=float32)},\n",
       " {'tilde': array([0.07587023], dtype=float32),\n",
       "  'exact': array([0.12021022], dtype=float32),\n",
       "  'tilde_up': array([0.08192749], dtype=float32),\n",
       "  'tilde_down': array([0.06981296], dtype=float32)},\n",
       " {'tilde': array([0.1870608], dtype=float32),\n",
       "  'exact': array([0.2648064], dtype=float32),\n",
       "  'tilde_up': array([0.1967612], dtype=float32),\n",
       "  'tilde_down': array([0.1773604], dtype=float32)},\n",
       " {'tilde': array([0.15289642], dtype=float32),\n",
       "  'exact': array([0.22437051], dtype=float32),\n",
       "  'tilde_up': array([0.16164964], dtype=float32),\n",
       "  'tilde_down': array([0.1441432], dtype=float32)},\n",
       " {'tilde': array([0.00053211], dtype=float32),\n",
       "  'exact': array([0.00109418], dtype=float32),\n",
       "  'tilde_up': array([0.00079416], dtype=float32),\n",
       "  'tilde_down': array([0.00027005], dtype=float32)}]"
      ]
     },
     "execution_count": 34,
     "metadata": {},
     "output_type": "execute_result"
    }
   ],
   "source": [
    "CVA"
   ]
  },
  {
   "cell_type": "code",
   "execution_count": 34,
   "metadata": {},
   "outputs": [
    {
     "name": "stderr",
     "output_type": "stream",
     "text": [
      "/Users/matthewdixon/anaconda3/lib/python3.6/site-packages/scipy/stats/_continuous_distns.py:437: RuntimeWarning: invalid value encountered in sqrt\n",
      "  sk = 2*(b-a)*np.sqrt(a + b + 1) / (a + b + 2) / np.sqrt(a*b)\n",
      "/Users/matthewdixon/anaconda3/lib/python3.6/site-packages/scipy/optimize/minpack.py:163: RuntimeWarning: The iteration is not making good progress, as measured by the \n",
      "  improvement from the last ten iterations.\n",
      "  warnings.warn(msg, RuntimeWarning)\n"
     ]
    },
    {
     "data": {
      "text/plain": [
       "Text(0,0.5,'density')"
      ]
     },
     "execution_count": 34,
     "metadata": {},
     "output_type": "execute_result"
    },
    {
     "data": {
      "image/png": "[encoded data removed]",
      "text/plain": [
       "<Figure size 432x288 with 1 Axes>"
      ]
     },
     "metadata": {},
     "output_type": "display_data"
    }
   ],
   "source": [
    "# plot fitted distribution of gamma_0\n",
    "lnspc = np.linspace(0, 20.0, 100)\n",
    "ab,bb,cb,db = stats.beta.fit(gamma_0)  \n",
    "pdf_beta = stats.beta.pdf(lnspc, ab, bb,cb, db)  \n",
    "plt.plot(lnspc, pdf_beta, label='$\\\\lambda_0$')\n",
    "plt.xlabel('$\\\\lambda_0$')\n",
    "plt.ylabel('density')"
   ]
  },
  {
   "cell_type": "code",
   "execution_count": 39,
   "metadata": {},
   "outputs": [
    {
     "data": {
      "text/plain": [
       "(72.24025230407715, -10.225179290771484)"
      ]
     },
     "execution_count": 39,
     "metadata": {},
     "output_type": "execute_result"
    }
   ],
   "source": [
    "np.max(CVA_1_yr-CVA), np.min(CVA_1_yr-CVA)"
   ]
  },
  {
   "cell_type": "code",
   "execution_count": 40,
   "metadata": {},
   "outputs": [
    {
     "name": "stderr",
     "output_type": "stream",
     "text": [
      "/Users/matthewdixon/anaconda3/lib/python3.6/site-packages/scipy/stats/_continuous_distns.py:437: RuntimeWarning: invalid value encountered in sqrt\n",
      "  sk = 2*(b-a)*np.sqrt(a + b + 1) / (a + b + 2) / np.sqrt(a*b)\n",
      "/Users/matthewdixon/anaconda3/lib/python3.6/site-packages/scipy/optimize/minpack.py:163: RuntimeWarning: The iteration is not making good progress, as measured by the \n",
      "  improvement from the last ten iterations.\n",
      "  warnings.warn(msg, RuntimeWarning)\n"
     ]
    },
    {
     "data": {
      "image/png": "[encoded data removed]",
      "text/plain": [
       "<Figure size 432x288 with 1 Axes>"
      ]
     },
     "metadata": {},
     "output_type": "display_data"
    }
   ],
   "source": [
    "# plot one year incremental CVA distribution\n",
    "lnspc = np.linspace(-10.0, 15, 100)\n",
    "\n",
    "ab,bb,cb,db = stats.beta.fit(CVA_1_yr-CVA)  \n",
    "pdf_beta = stats.beta.pdf(lnspc, ab, bb,cb, db)  \n",
    "plt.plot(lnspc, pdf_beta, label='MC-Analytic', color='r')\n",
    "\n",
    "ab,bb,cb,db = stats.beta.fit(CVA_1_yr_tilde-CVA_tilde)  \n",
    "pdf_beta = stats.beta.pdf(lnspc, ab, bb,cb, db)  \n",
    "plt.plot(lnspc, pdf_beta, label='MC-GP', color='k')\n",
    "\n",
    "ab,bb,cb,db = stats.beta.fit(CVA_1_yr_tilde_up-CVA_tilde_up)  \n",
    "pdf_beta = stats.beta.pdf(lnspc, ab, bb,cb, db)  \n",
    "plt.plot(lnspc, pdf_beta, label='MC-GP (lower)', color=\"grey\", linestyle='--')\n",
    "\n",
    "ab,bb,cb,db = stats.beta.fit(CVA_1_yr_tilde_down-CVA_tilde_down)  \n",
    "pdf_beta = stats.beta.pdf(lnspc, ab, bb,cb, db)  \n",
    "plt.plot(lnspc, pdf_beta, label='MC-GP (upper)', color='grey', linestyle='-.')\n",
    "\n",
    "plt.xlabel('$CVA_1 - CVA_0$')\n",
    "plt.ylabel('density')\n",
    "plt.legend()\n",
    "plt.show()\n"
   ]
  },
  {
   "cell_type": "code",
   "execution_count": 47,
   "metadata": {},
   "outputs": [
    {
     "data": {
      "text/plain": [
       "Text(0,0.5,'density')"
      ]
     },
     "execution_count": 47,
     "metadata": {},
     "output_type": "execute_result"
    },
    {
     "data": {
      "image/png": "[encoded data removed]",
      "text/plain": [
       "<Figure size 432x288 with 1 Axes>"
      ]
     },
     "metadata": {},
     "output_type": "display_data"
    }
   ],
   "source": [
    "i =0 \n",
    "for time in timegrid[1::2]:\n",
    "    \n",
    "# find minimum and maximum of xticks, so we know\n",
    "# where we should compute theoretical distribution\n",
    "    \n",
    "    lnspc = np.linspace(0.01, 0.5, 100)\n",
    "\n",
    "    ab,bb,cb,db = stats.beta.fit(dPD[i,:,:])  \n",
    "    pdf_beta = stats.beta.pdf(lnspc, ab, bb,cb, db)  \n",
    "    plt.plot(lnspc, pdf_beta, label='Time: ' + str(time[0]))\n",
    "    i+=1\n",
    "    \n",
    " \n",
    "plt.legend()\n",
    "plt.xlabel('$\\\\lambda$')\n",
    "plt.ylabel('density')"
   ]
  },
  {
   "cell_type": "code",
   "execution_count": 49,
   "metadata": {},
   "outputs": [],
   "source": [
    "CVA_VaR = []\n",
    "CVA_VaR_tilde = []\n",
    "CVA_VaR_tilde_down = []\n",
    "CVA_VaR_tilde_up = []\n",
    "\n",
    "for j in range(J):\n",
    "  s_sorted=np.sort(CVA_1_yr[:,j]-CVA[j])\n",
    "  s_sorted_tilde=np.sort(CVA_1_yr_tilde[:,j]-CVA_tilde[j])\n",
    "  s_sorted_tilde_down=np.sort(CVA_1_yr_tilde_down[:,j]-CVA_tilde_down[j])\n",
    "  s_sorted_tilde_up=np.sort(CVA_1_yr_tilde_up[:,j]-CVA_tilde_up[j])\n",
    "  quantiles = np.array([0.9,0.91,0.92,0.93,0.94,0.95,0.96,0.97,0.98,0.99,0.999])\n",
    "  idx = np.array(len(s_sorted)*quantiles[9], dtype=int)\n",
    "  CVA_VaR.append(s_sorted[idx])\n",
    "  CVA_VaR_tilde.append(s_sorted_tilde[idx])\n",
    "  CVA_VaR_tilde_down.append(s_sorted_tilde_down[idx])\n",
    "  CVA_VaR_tilde_up.append(s_sorted_tilde_up[idx])\n"
   ]
  },
  {
   "cell_type": "code",
   "execution_count": 50,
   "metadata": {},
   "outputs": [
    {
     "name": "stderr",
     "output_type": "stream",
     "text": [
      "/Users/matthewdixon/anaconda3/lib/python3.6/site-packages/scipy/stats/_continuous_distns.py:437: RuntimeWarning: invalid value encountered in sqrt\n",
      "  sk = 2*(b-a)*np.sqrt(a + b + 1) / (a + b + 2) / np.sqrt(a*b)\n"
     ]
    },
    {
     "data": {
      "text/plain": [
       "<matplotlib.legend.Legend at 0x1a26634a20>"
      ]
     },
     "execution_count": 50,
     "metadata": {},
     "output_type": "execute_result"
    },
    {
     "data": {
      "image/png": "[encoded data removed]",
      "text/plain": [
       "<Figure size 432x288 with 1 Axes>"
      ]
     },
     "metadata": {},
     "output_type": "display_data"
    }
   ],
   "source": [
    "lnspc = np.linspace(0, 25.0, 100)\n",
    "\n",
    "ab,bb,cb,db = stats.beta.fit(np.array(CVA_VaR))  \n",
    "pdf_beta = stats.beta.pdf(lnspc, ab, bb,cb, db)  \n",
    "plt.plot(lnspc, pdf_beta, label='99% CVA VaR (MC-Analytic)')\n",
    "ab,bb,cb,db = stats.beta.fit(np.array(CVA_VaR_tilde))  \n",
    "pdf_beta = stats.beta.pdf(lnspc, ab, bb,cb, db)  \n",
    "plt.plot(lnspc, pdf_beta, label='99% CVA VaR (MC-GP)', color='k')\n",
    "\n",
    "\n",
    "plt.xlabel('99% CVA VaR')\n",
    "plt.ylabel('density')\n",
    "plt.legend()"
   ]
  },
  {
   "cell_type": "code",
   "execution_count": 53,
   "metadata": {},
   "outputs": [
    {
     "data": {
      "image/png": "[encoded data removed]",
      "text/plain": [
       "<Figure size 432x288 with 1 Axes>"
      ]
     },
     "metadata": {},
     "output_type": "display_data"
    }
   ],
   "source": [
    "s = (CVA_1_yr_tilde-CVA_tilde) - (CVA_1_yr - CVA)   # generate your data sample with N elements\n",
    "p, x = np.histogram(s, bins=10, density=True) # bin it into n = N//10 bins\n",
    "x = x[:-1] + (x[1] - x[0])/2   # convert bin edges to centers\n",
    "f = sp.interpolate.UnivariateSpline(x, p, s=1)\n",
    "plt.plot(x, f(x))\n",
    "plt.xlabel('$Error(CVA_1 - CVA_0)$')\n",
    "plt.ylabel('density')\n",
    "plt.show()"
   ]
  }
 ],
 "metadata": {
  "kernelspec": {
   "display_name": "Python 3",
   "language": "python",
   "name": "python3"
  },
  "language_info": {
   "codemirror_mode": {
    "name": "ipython",
    "version": 3
   },
   "file_extension": ".py",
   "mimetype": "text/x-python",
   "name": "python",
   "nbconvert_exporter": "python",
   "pygments_lexer": "ipython3",
   "version": "3.6.5"
  }
 },
 "nbformat": 4,
 "nbformat_minor": 2
}
